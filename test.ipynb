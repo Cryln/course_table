{
 "metadata": {
  "language_info": {
   "codemirror_mode": {
    "name": "ipython",
    "version": 3
   },
   "file_extension": ".py",
   "mimetype": "text/x-python",
   "name": "python",
   "nbconvert_exporter": "python",
   "pygments_lexer": "ipython3",
   "version": "3.8.6-candidate"
  },
  "orig_nbformat": 2,
  "kernelspec": {
   "name": "python38664bitf48a3ee1f15d430ab565733639d5bd6b",
   "display_name": "Python 3.8.6 64-bit",
   "language": "python"
  }
 },
 "nbformat": 4,
 "nbformat_minor": 2,
 "cells": [
  {
   "cell_type": "code",
   "execution_count": 1,
   "metadata": {},
   "outputs": [],
   "source": [
    "htmlf=open('ct.html','r',encoding=\"utf-8\")\n",
    "html=htmlf.read()"
   ]
  },
  {
   "cell_type": "code",
   "execution_count": 7,
   "metadata": {},
   "outputs": [],
   "source": [
    "from lxml import etree\n",
    "# 假设html是需要被解析的html\n",
    "\n",
    "#将html传入etree 的构造方法,得到一个文档的对象\n",
    "root = etree.HTML(html)\n",
    "#查找所有的h4标签\n",
    "links = root.xpath('//*[@id=\"manualArrangeCourseTable\"]')\n"
   ]
  },
  {
   "cell_type": "code",
   "execution_count": 9,
   "metadata": {},
   "outputs": [],
   "source": [
    "tbody = root.xpath('//*[@id=\"manualArrangeCourseTable\"]/tbody')"
   ]
  },
  {
   "cell_type": "code",
   "execution_count": 13,
   "metadata": {},
   "outputs": [
    {
     "output_type": "stream",
     "name": "stdout",
     "text": [
      "<Element tbody at 0x1c3487403c0>\n"
     ]
    }
   ],
   "source": [
    "for i in tbody:\n",
    "    print(i)"
   ]
  },
  {
   "cell_type": "code",
   "execution_count": 19,
   "metadata": {},
   "outputs": [
    {
     "output_type": "stream",
     "name": "stdout",
     "text": [
      "TD0_0\nbackground-color: rgb(148, 174, 243); font-size: 12px;\n2\ninfoTitle\n计算机体系结构(A035026) (乔百友);;;(1-8,1号A103(浑南校区))\n"
     ]
    }
   ],
   "source": [
    "test = root.xpath('//*[@id=\"TD0_0\"]/@*')\n",
    "for i in test:\n",
    "    print(i)"
   ]
  },
  {
   "cell_type": "code",
   "execution_count": 22,
   "metadata": {},
   "outputs": [],
   "source": [
    "trs = root.xpath('//td[contains(@id,\"TD\")]')"
   ]
  },
  {
   "cell_type": "code",
   "execution_count": 25,
   "metadata": {},
   "outputs": [
    {
     "output_type": "stream",
     "name": "stdout",
     "text": [
      "['height:100%;width:15%;', 'leftTD', 'top']\n['rightTD', 'top']\n['TD72_0', 'backGround-Color:#ffffff;font-size:12px']\n['TD0_0', 'background-color: rgb(148, 174, 243); font-size: 12px;', '2', 'infoTitle', '计算机体系结构(A035026) (乔百友);;;(1-8,1号A103(浑南校区))']\n['TD12_0', 'backGround-Color:#ffffff;font-size:12px']\n['TD24_0', 'background-color: rgb(148, 174, 243); font-size: 12px;', '2', 'infoTitle', '操作系统(A034406) (乔建忠);;;(1-7单,1号A203(浑南校区))']\n['TD36_0', 'backGround-Color:#ffffff;font-size:12px']\n['TD48_0', 'background-color: rgb(148, 174, 243); font-size: 12px;', '2', 'infoTitle', '计算机体系结构(A035026) (乔百友);;;(1-8,1号A102(浑南校区))']\n['TD60_0', 'backGround-Color:#ffffff;font-size:12px']\n['TD73_0', 'backGround-Color:#ffffff;font-size:12px']\n['TD13_0', 'backGround-Color:#ffffff;font-size:12px']\n['TD37_0', 'backGround-Color:#ffffff;font-size:12px']\n['TD61_0', 'backGround-Color:#ffffff;font-size:12px']\n['TD74_0', 'backGround-Color:#ffffff;font-size:12px']\n['TD2_0', 'background-color: rgb(148, 174, 243); font-size: 12px;', '2', 'infoTitle', '软件工程(A034796) (印莹);;;(2-8双,1号A402(浑南校区))']\n['TD14_0', 'background-color: rgb(148, 174, 243); font-size: 12px;', '2', 'infoTitle', '操作系统(A034406) (乔建忠);;;(1-12,1号A105(浑南校区))']\n['TD26_0', 'background-color: rgb(148, 174, 243); font-size: 12px;', '2', 'infoTitle', '计算机体系结构(A035026) (乔百友);(1-7单,1号A103(浑南校区);机器学习导论(A030816) (曹鹏);(9-12,1号A201(浑南校区)']\n['TD38_0', 'background-color: rgb(148, 174, 243); font-size: 12px;', '2', 'infoTitle', '操作系统(A034406) (乔建忠);;;(1-12,信息A114(浑南校区))']\n['TD50_0', 'background-color: rgb(148, 174, 243); font-size: 12px;', '2', 'infoTitle', '机器学习导论(A030816) (曹鹏);;;(9-12,1号A202(浑南校区))']\n['TD62_0', 'background-color: rgb(148, 174, 243); font-size: 12px;', '2', 'infoTitle', '形势与政策(3)(A030316) (田雪飞);;;(7-8,信息A112(浑南校区))']\n['TD75_0', 'backGround-Color:#ffffff;font-size:12px']\n['TD76_0', 'backGround-Color:#ffffff;font-size:12px']\n['TD4_0', 'background-color: rgb(148, 174, 243); font-size: 12px;', '2', 'infoTitle', '机器学习导论(A030816) (曹鹏);(9-12,1号A201(浑南校区);操作系统课程设计(A034425) (乔建忠);(13-14);接口技术(A034512) (刘莹);(1-8,1号A302(浑南校区)']\n['TD16_0', 'background-color: rgb(148, 174, 243); font-size: 12px;', '2', 'infoTitle', '软件建模技术(A030553) (杨雷);(9-12,1号A201(浑南校区);软件工程(A034796) (印莹);(1-8,1号A304(浑南校区);操作系统课程设计(A034425) (乔建忠);(13-14)']\n['TD28_0', 'backGround-Color:#ffffff;font-size:12px']\n['TD40_0', 'background-color: rgb(148, 174, 243); font-size: 12px;', '2', 'infoTitle', '软件建模技术(A030553) (杨雷);(9-12,1号A201(浑南校区);操作系统课程设计(A034425) (乔建忠);(13-14);接口技术(A034512) (刘莹);(1-8,1号A304(浑南校区)']\n['TD52_0', 'background-color: rgb(148, 174, 243); font-size: 12px;', '2', 'infoTitle', '软件建模技术(A030553) (杨雷);(9-12,1号A201(浑南校区);软件工程(A034796) (印莹);(1-8,1号A104(浑南校区);操作系统课程设计(A034425) (乔建忠);(13-14)']\n['TD64_0', 'backGround-Color:#ffffff;font-size:12px']\n['TD77_0', 'backGround-Color:#ffffff;font-size:12px']\n['TD29_0', 'backGround-Color:#ffffff;font-size:12px']\n['TD65_0', 'backGround-Color:#ffffff;font-size:12px']\n['TD78_0', 'backGround-Color:#ffffff;font-size:12px']\n['TD6_0', 'background-color: rgb(148, 174, 243); font-size: 12px;', '2', 'infoTitle', '操作系统课程设计(A034425) (乔建忠);;;(13-14)']\n['TD18_0', 'background-color: rgb(148, 174, 243); font-size: 12px;', '2', 'infoTitle', '操作系统课程设计(A034425) (乔建忠);;;(13-14)']\n['TD30_0', 'backGround-Color:#ffffff;font-size:12px']\n['TD42_0', 'background-color: rgb(148, 174, 243); font-size: 12px;', '2', 'infoTitle', '机器学习导论(A030816) (曹鹏);(9-12,1号A201(浑南校区);操作系统课程设计(A034425) (乔建忠);(13-14)']\n['TD54_0', 'background-color: rgb(148, 174, 243); font-size: 12px;', '2', 'infoTitle', '操作系统课程设计(A034425) (乔建忠);;;(13-14)']\n['TD66_0', 'backGround-Color:#ffffff;font-size:12px']\n['TD79_0', 'backGround-Color:#ffffff;font-size:12px']\n['TD31_0', 'backGround-Color:#ffffff;font-size:12px']\n['TD67_0', 'backGround-Color:#ffffff;font-size:12px']\n['TD80_0', 'backGround-Color:#ffffff;font-size:12px']\n['TD8_0', 'backGround-Color:#ffffff;font-size:12px']\n['TD20_0', 'backGround-Color:#ffffff;font-size:12px']\n['TD32_0', 'backGround-Color:#ffffff;font-size:12px']\n['TD44_0', 'backGround-Color:#ffffff;font-size:12px']\n['TD56_0', 'backGround-Color:#ffffff;font-size:12px']\n['TD68_0', 'backGround-Color:#ffffff;font-size:12px']\n['TD81_0', 'backGround-Color:#ffffff;font-size:12px']\n['TD9_0', 'backGround-Color:#ffffff;font-size:12px']\n['TD21_0', 'backGround-Color:#ffffff;font-size:12px']\n['TD33_0', 'backGround-Color:#ffffff;font-size:12px']\n['TD45_0', 'backGround-Color:#ffffff;font-size:12px']\n['TD57_0', 'backGround-Color:#ffffff;font-size:12px']\n['TD69_0', 'backGround-Color:#ffffff;font-size:12px']\n['TD82_0', 'backGround-Color:#ffffff;font-size:12px']\n['TD10_0', 'backGround-Color:#ffffff;font-size:12px']\n['TD22_0', 'backGround-Color:#ffffff;font-size:12px']\n['TD34_0', 'backGround-Color:#ffffff;font-size:12px']\n['TD46_0', 'backGround-Color:#ffffff;font-size:12px']\n['TD58_0', 'backGround-Color:#ffffff;font-size:12px']\n['TD70_0', 'backGround-Color:#ffffff;font-size:12px']\n['TD83_0', 'backGround-Color:#ffffff;font-size:12px']\n['TD11_0', 'backGround-Color:#ffffff;font-size:12px']\n['TD23_0', 'backGround-Color:#ffffff;font-size:12px']\n['TD35_0', 'backGround-Color:#ffffff;font-size:12px']\n['TD47_0', 'backGround-Color:#ffffff;font-size:12px']\n['TD59_0', 'backGround-Color:#ffffff;font-size:12px']\n['TD71_0', 'backGround-Color:#ffffff;font-size:12px']\n"
     ]
    }
   ],
   "source": [
    "for i in trs:\n",
    "    i.attrib\n",
    "    print(i.xpath('./@*'))"
   ]
  },
  {
   "cell_type": "code",
   "execution_count": 29,
   "metadata": {},
   "outputs": [
    {
     "output_type": "stream",
     "name": "stdout",
     "text": [
      "{'id': 'TD73_0', 'style': 'backGround-Color:#ffffff;font-size:12px'}\n"
     ]
    }
   ],
   "source": [
    "t = trs[9]\n",
    "print(dict(t.attrib))"
   ]
  },
  {
   "cell_type": "code",
   "execution_count": 1,
   "metadata": {},
   "outputs": [],
   "source": [
    "from lxml import etree\n",
    "\n",
    "\n",
    "htmlf=open('ct.html','r',encoding=\"utf-8\")\n",
    "html=htmlf.read()\n",
    "\n",
    "root = etree.HTML(html)\n",
    "\n",
    "tds = root.xpath('//td[contains(@id,\"TD\")]')\n",
    "td_list = []\n",
    "\n",
    "for item in tds:\n",
    "    td_list.append(dict(item.attrib))"
   ]
  },
  {
   "cell_type": "code",
   "execution_count": null,
   "metadata": {},
   "outputs": [],
   "source": [
    "    calendar = Calendar(calendar_name=\"test\")\n",
    "    add_event(calendar,\n",
    "              SUMMARY=\"测试\",\n",
    "              DTSTART=datetime.datetime(year=2019,month=2,day=19,hour=21,minute=21,second=00),\n",
    "              DTEND=datetime.datetime(year=2019,month=2,day=19,hour=21,minute=30,second=00),\n",
    "              DESCRIPTION=\"测试事件\",\n",
    "              LOCATION=\"我也不知道在哪儿\")\n",
    "    print(calendar.get_ics_text())\n",
    "    calendar.save_as_ics_file()"
   ]
  },
  {
   "cell_type": "code",
   "execution_count": 51,
   "metadata": {},
   "outputs": [
    {
     "output_type": "stream",
     "name": "stdout",
     "text": [
      "0\n2\n4\n6\n8\n"
     ]
    }
   ],
   "source": [
    "for i in range(0,10,2):\n",
    "    print(i)"
   ]
  },
  {
   "cell_type": "code",
   "execution_count": 25,
   "metadata": {},
   "outputs": [
    {
     "output_type": "execute_result",
     "data": {
      "text/plain": [
       "{'id': 'TD26_0',\n",
       " 'style': 'background-color: rgb(148, 174, 243); font-size: 12px;',\n",
       " 'rowspan': '2',\n",
       " 'class': 'infoTitle',\n",
       " 'title': '计算机体系结构(A035026) (乔百友);(1-7单,1号A103(浑南校区);机器学习导论(A030816) (曹鹏);(9-12,1号A201(浑南校区)'}"
      ]
     },
     "metadata": {},
     "execution_count": 25
    }
   ],
   "source": [
    "a = td_list[5]\n",
    "a"
   ]
  },
  {
   "cell_type": "code",
   "execution_count": 17,
   "metadata": {},
   "outputs": [
    {
     "output_type": "execute_result",
     "data": {
      "text/plain": [
       "['操作系统(A034406) (乔建忠)', '', '', '(1-7单,1号A203(浑南校区))']"
      ]
     },
     "metadata": {},
     "execution_count": 17
    }
   ],
   "source": [
    "b=a['title'].split(';')\n"
   ]
  },
  {
   "cell_type": "code",
   "execution_count": 24,
   "metadata": {},
   "outputs": [],
   "source": [
    "td_list = []\n",
    "for item in tds:\n",
    "    content = dict(item.attrib)\n",
    "    if 'title' in content.keys():\n",
    "        td_list.append(content)"
   ]
  },
  {
   "cell_type": "code",
   "execution_count": 84,
   "metadata": {},
   "outputs": [
    {
     "output_type": "stream",
     "name": "stdout",
     "text": [
      "['计算机体系结构(A035026) (乔百友)', '(1-7单,1号A103(浑南校区)', '机器学习导论(A030816) (曹鹏)', '(9-12,1号A201(浑南校区)']\n['A035026', '乔百友']\n"
     ]
    }
   ],
   "source": [
    "import re\n",
    "al = l[5]\n",
    "b = al.xpath(\"./text()\")\n",
    "print(b)\n",
    "cName = re.compile(r\"^([\\w ]+)\\(\")\n",
    "cNum = re.compile(r\"\\((\\w+)\\)\")\n",
    "room =  re.compile(r\",(\\w+)\\(\")\n",
    "hanzi = re.compile(r\"\\(([\\w ]+)\\)\")\n",
    "routine = re.compile(r\"\\(([\\w\\S]+),\")\n",
    "x = hanzi.findall(b[0])\n",
    "print(x)"
   ]
  },
  {
   "cell_type": "code",
   "execution_count": 85,
   "metadata": {},
   "outputs": [
    {
     "output_type": "stream",
     "name": "stdout",
     "text": [
      "{'CourseName': '计算机体系结构', 'CourseNumber': 'A035026', 'Teacher': '乔百友', 'Campus': '浑南校区', 'Room': '1号A103', 'Routine': '1-7单'}\n{'CourseName': '机器学习导论', 'CourseNumber': 'A030816', 'Teacher': '曹鹏', 'Campus': '浑南校区', 'Room': '1号A201', 'Routine': '9-12'}\n"
     ]
    }
   ],
   "source": [
    "detail = al.xpath(\"./text()\")\n",
    "for i in range(0,10,2):\n",
    "    if i+1 > len(detail):\n",
    "        break;\n",
    "    cName = re.compile(r\"^([\\w ]+)\\(\")\n",
    "    cNum = re.compile(r\"\\(([A-Za-z]+[0-9]+)\\)\")\n",
    "    room =  re.compile(r\",(\\w+)\\(\")\n",
    "    hanzi = re.compile(r\"\\(([\\w ]+)\\)\")\n",
    "    routine = re.compile(r\"\\(([\\w\\S]+),\")\n",
    "    c_info = {}\n",
    "\n",
    "    c_info['CourseName'] = cName.findall(detail[i])[0]\n",
    "    c_info['CourseNumber'] = cNum.findall(detail[i])[0]\n",
    "    c_info['Teacher'] = hanzi.findall(detail[i])[1]\n",
    "    c_info['Campus'] = hanzi.findall(detail[i+1])[0]\n",
    "    c_info['Room'] = room.findall(detail[i+1])[0]\n",
    "    c_info['Routine'] = routine.findall(detail[i+1])[0]\n",
    "    print(c_info)"
   ]
  },
  {
   "cell_type": "code",
   "execution_count": 87,
   "metadata": {},
   "outputs": [
    {
     "output_type": "stream",
     "name": "stdout",
     "text": [
      "['1', '7']\n"
     ]
    }
   ],
   "source": [
    "s = '1-7单'\n",
    "print(s.strip('单双').split('-'))"
   ]
  },
  {
   "cell_type": "code",
   "execution_count": 90,
   "metadata": {},
   "outputs": [
    {
     "output_type": "stream",
     "name": "stdout",
     "text": [
      "0\n1\n2\n3\n4\n"
     ]
    }
   ],
   "source": [
    "a = 1\n",
    "for i in range(5 if a==1 else 6):\n",
    "    print(i)"
   ]
  },
  {
   "cell_type": "code",
   "execution_count": null,
   "metadata": {},
   "outputs": [],
   "source": []
  }
 ]
}