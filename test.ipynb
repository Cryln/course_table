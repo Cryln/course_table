{
 "metadata": {
  "language_info": {
   "codemirror_mode": {
    "name": "ipython",
    "version": 3
   },
   "file_extension": ".py",
   "mimetype": "text/x-python",
   "name": "python",
   "nbconvert_exporter": "python",
   "pygments_lexer": "ipython3",
   "version": "3.8.6-candidate"
  },
  "orig_nbformat": 2,
  "kernelspec": {
   "name": "python38664bitf48a3ee1f15d430ab565733639d5bd6b",
   "display_name": "Python 3.8.6 64-bit",
   "language": "python"
  }
 },
 "nbformat": 4,
 "nbformat_minor": 2,
 "cells": [
  {
   "cell_type": "code",
   "execution_count": 1,
   "metadata": {},
   "outputs": [],
   "source": [
    "htmlf=open('ct.html','r',encoding=\"utf-8\")\n",
    "html=htmlf.read()"
   ]
  },
  {
   "cell_type": "code",
   "execution_count": 7,
   "metadata": {},
   "outputs": [],
   "source": [
    "from lxml import etree\n",
    "# 假设html是需要被解析的html\n",
    "\n",
    "#将html传入etree 的构造方法,得到一个文档的对象\n",
    "root = etree.HTML(html)\n",
    "#查找所有的h4标签\n",
    "links = root.xpath('//*[@id=\"manualArrangeCourseTable\"]')\n"
   ]
  },
  {
   "cell_type": "code",
   "execution_count": 9,
   "metadata": {},
   "outputs": [],
   "source": [
    "tbody = root.xpath('//*[@id=\"manualArrangeCourseTable\"]/tbody')"
   ]
  },
  {
   "cell_type": "code",
   "execution_count": 7,
   "metadata": {},
   "outputs": [
    {
     "output_type": "stream",
     "name": "stdout",
     "text": [
      "1\n"
     ]
    }
   ],
   "source": [
    "print(int(1.9))"
   ]
  },
  {
   "cell_type": "code",
   "execution_count": 19,
   "metadata": {},
   "outputs": [
    {
     "output_type": "stream",
     "name": "stdout",
     "text": [
      "TD0_0\nbackground-color: rgb(148, 174, 243); font-size: 12px;\n2\ninfoTitle\n计算机体系结构(A035026) (乔百友);;;(1-8,1号A103(浑南校区))\n"
     ]
    }
   ],
   "source": [
    "test = root.xpath('//*[@id=\"TD0_0\"]/@*')\n",
    "for i in test:\n",
    "    print(i)"
   ]
  },
  {
   "cell_type": "code",
   "execution_count": 22,
   "metadata": {},
   "outputs": [],
   "source": [
    "trs = root.xpath('//td[contains(@id,\"TD\")]')"
   ]
  },
  {
   "cell_type": "code",
   "execution_count": 4,
   "metadata": {},
   "outputs": [
    {
     "output_type": "execute_result",
     "data": {
      "text/plain": [
       "int"
      ]
     },
     "metadata": {},
     "execution_count": 4
    }
   ],
   "source": [
    "rule = (((8,30),(9,20)),     #0\n",
    "        ((9,30),(10,20)),    #1\n",
    "        ((10,40),(11,30)),    #2\n",
    "        ((11,40),(12,30)),    #3\n",
    "        ((14,0),(14,50)),    #4\n",
    "        ((15,0),(15,50)),    #5\n",
    "        ((16,10),(17,0)),    #6\n",
    "        ((17,10),(18,0)),    #7\n",
    "        ((18,30),(19,20)),    #8\n",
    "        ((19,30),(20,20)),    #9\n",
    "        ((20,30),(21,20)),    #10\n",
    "        ((21,30),(22,20)))   #11\n",
    "\n",
    "type(rule[1][0][0])"
   ]
  },
  {
   "cell_type": "code",
   "execution_count": 25,
   "metadata": {},
   "outputs": [
    {
     "output_type": "stream",
     "name": "stdout",
     "text": [
      "['height:100%;width:15%;', 'leftTD', 'top']\n['rightTD', 'top']\n['TD72_0', 'backGround-Color:#ffffff;font-size:12px']\n['TD0_0', 'background-color: rgb(148, 174, 243); font-size: 12px;', '2', 'infoTitle', '计算机体系结构(A035026) (乔百友);;;(1-8,1号A103(浑南校区))']\n['TD12_0', 'backGround-Color:#ffffff;font-size:12px']\n['TD24_0', 'background-color: rgb(148, 174, 243); font-size: 12px;', '2', 'infoTitle', '操作系统(A034406) (乔建忠);;;(1-7单,1号A203(浑南校区))']\n['TD36_0', 'backGround-Color:#ffffff;font-size:12px']\n['TD48_0', 'background-color: rgb(148, 174, 243); font-size: 12px;', '2', 'infoTitle', '计算机体系结构(A035026) (乔百友);;;(1-8,1号A102(浑南校区))']\n['TD60_0', 'backGround-Color:#ffffff;font-size:12px']\n['TD73_0', 'backGround-Color:#ffffff;font-size:12px']\n['TD13_0', 'backGround-Color:#ffffff;font-size:12px']\n['TD37_0', 'backGround-Color:#ffffff;font-size:12px']\n['TD61_0', 'backGround-Color:#ffffff;font-size:12px']\n['TD74_0', 'backGround-Color:#ffffff;font-size:12px']\n['TD2_0', 'background-color: rgb(148, 174, 243); font-size: 12px;', '2', 'infoTitle', '软件工程(A034796) (印莹);;;(2-8双,1号A402(浑南校区))']\n['TD14_0', 'background-color: rgb(148, 174, 243); font-size: 12px;', '2', 'infoTitle', '操作系统(A034406) (乔建忠);;;(1-12,1号A105(浑南校区))']\n['TD26_0', 'background-color: rgb(148, 174, 243); font-size: 12px;', '2', 'infoTitle', '计算机体系结构(A035026) (乔百友);(1-7单,1号A103(浑南校区);机器学习导论(A030816) (曹鹏);(9-12,1号A201(浑南校区)']\n['TD38_0', 'background-color: rgb(148, 174, 243); font-size: 12px;', '2', 'infoTitle', '操作系统(A034406) (乔建忠);;;(1-12,信息A114(浑南校区))']\n['TD50_0', 'background-color: rgb(148, 174, 243); font-size: 12px;', '2', 'infoTitle', '机器学习导论(A030816) (曹鹏);;;(9-12,1号A202(浑南校区))']\n['TD62_0', 'background-color: rgb(148, 174, 243); font-size: 12px;', '2', 'infoTitle', '形势与政策(3)(A030316) (田雪飞);;;(7-8,信息A112(浑南校区))']\n['TD75_0', 'backGround-Color:#ffffff;font-size:12px']\n['TD76_0', 'backGround-Color:#ffffff;font-size:12px']\n['TD4_0', 'background-color: rgb(148, 174, 243); font-size: 12px;', '2', 'infoTitle', '机器学习导论(A030816) (曹鹏);(9-12,1号A201(浑南校区);操作系统课程设计(A034425) (乔建忠);(13-14);接口技术(A034512) (刘莹);(1-8,1号A302(浑南校区)']\n['TD16_0', 'background-color: rgb(148, 174, 243); font-size: 12px;', '2', 'infoTitle', '软件建模技术(A030553) (杨雷);(9-12,1号A201(浑南校区);软件工程(A034796) (印莹);(1-8,1号A304(浑南校区);操作系统课程设计(A034425) (乔建忠);(13-14)']\n['TD28_0', 'backGround-Color:#ffffff;font-size:12px']\n['TD40_0', 'background-color: rgb(148, 174, 243); font-size: 12px;', '2', 'infoTitle', '软件建模技术(A030553) (杨雷);(9-12,1号A201(浑南校区);操作系统课程设计(A034425) (乔建忠);(13-14);接口技术(A034512) (刘莹);(1-8,1号A304(浑南校区)']\n['TD52_0', 'background-color: rgb(148, 174, 243); font-size: 12px;', '2', 'infoTitle', '软件建模技术(A030553) (杨雷);(9-12,1号A201(浑南校区);软件工程(A034796) (印莹);(1-8,1号A104(浑南校区);操作系统课程设计(A034425) (乔建忠);(13-14)']\n['TD64_0', 'backGround-Color:#ffffff;font-size:12px']\n['TD77_0', 'backGround-Color:#ffffff;font-size:12px']\n['TD29_0', 'backGround-Color:#ffffff;font-size:12px']\n['TD65_0', 'backGround-Color:#ffffff;font-size:12px']\n['TD78_0', 'backGround-Color:#ffffff;font-size:12px']\n['TD6_0', 'background-color: rgb(148, 174, 243); font-size: 12px;', '2', 'infoTitle', '操作系统课程设计(A034425) (乔建忠);;;(13-14)']\n['TD18_0', 'background-color: rgb(148, 174, 243); font-size: 12px;', '2', 'infoTitle', '操作系统课程设计(A034425) (乔建忠);;;(13-14)']\n['TD30_0', 'backGround-Color:#ffffff;font-size:12px']\n['TD42_0', 'background-color: rgb(148, 174, 243); font-size: 12px;', '2', 'infoTitle', '机器学习导论(A030816) (曹鹏);(9-12,1号A201(浑南校区);操作系统课程设计(A034425) (乔建忠);(13-14)']\n['TD54_0', 'background-color: rgb(148, 174, 243); font-size: 12px;', '2', 'infoTitle', '操作系统课程设计(A034425) (乔建忠);;;(13-14)']\n['TD66_0', 'backGround-Color:#ffffff;font-size:12px']\n['TD79_0', 'backGround-Color:#ffffff;font-size:12px']\n['TD31_0', 'backGround-Color:#ffffff;font-size:12px']\n['TD67_0', 'backGround-Color:#ffffff;font-size:12px']\n['TD80_0', 'backGround-Color:#ffffff;font-size:12px']\n['TD8_0', 'backGround-Color:#ffffff;font-size:12px']\n['TD20_0', 'backGround-Color:#ffffff;font-size:12px']\n['TD32_0', 'backGround-Color:#ffffff;font-size:12px']\n['TD44_0', 'backGround-Color:#ffffff;font-size:12px']\n['TD56_0', 'backGround-Color:#ffffff;font-size:12px']\n['TD68_0', 'backGround-Color:#ffffff;font-size:12px']\n['TD81_0', 'backGround-Color:#ffffff;font-size:12px']\n['TD9_0', 'backGround-Color:#ffffff;font-size:12px']\n['TD21_0', 'backGround-Color:#ffffff;font-size:12px']\n['TD33_0', 'backGround-Color:#ffffff;font-size:12px']\n['TD45_0', 'backGround-Color:#ffffff;font-size:12px']\n['TD57_0', 'backGround-Color:#ffffff;font-size:12px']\n['TD69_0', 'backGround-Color:#ffffff;font-size:12px']\n['TD82_0', 'backGround-Color:#ffffff;font-size:12px']\n['TD10_0', 'backGround-Color:#ffffff;font-size:12px']\n['TD22_0', 'backGround-Color:#ffffff;font-size:12px']\n['TD34_0', 'backGround-Color:#ffffff;font-size:12px']\n['TD46_0', 'backGround-Color:#ffffff;font-size:12px']\n['TD58_0', 'backGround-Color:#ffffff;font-size:12px']\n['TD70_0', 'backGround-Color:#ffffff;font-size:12px']\n['TD83_0', 'backGround-Color:#ffffff;font-size:12px']\n['TD11_0', 'backGround-Color:#ffffff;font-size:12px']\n['TD23_0', 'backGround-Color:#ffffff;font-size:12px']\n['TD35_0', 'backGround-Color:#ffffff;font-size:12px']\n['TD47_0', 'backGround-Color:#ffffff;font-size:12px']\n['TD59_0', 'backGround-Color:#ffffff;font-size:12px']\n['TD71_0', 'backGround-Color:#ffffff;font-size:12px']\n"
     ]
    }
   ],
   "source": [
    "for i in trs:\n",
    "    i.attrib\n",
    "    print(i.xpath('./@*'))"
   ]
  },
  {
   "cell_type": "code",
   "execution_count": 29,
   "metadata": {},
   "outputs": [
    {
     "output_type": "stream",
     "name": "stdout",
     "text": [
      "{'id': 'TD73_0', 'style': 'backGround-Color:#ffffff;font-size:12px'}\n"
     ]
    }
   ],
   "source": [
    "t = trs[9]\n",
    "print(dict(t.attrib))"
   ]
  },
  {
   "cell_type": "code",
   "execution_count": 1,
   "metadata": {},
   "outputs": [],
   "source": [
    "from lxml import etree\n",
    "\n",
    "\n",
    "htmlf=open('ct.html','r',encoding=\"utf-8\")\n",
    "html=htmlf.read()\n",
    "\n",
    "root = etree.HTML(html)\n",
    "\n",
    "tds = root.xpath('//td[contains(@id,\"TD\")]')\n",
    "td_list = []\n",
    "\n",
    "for item in tds:\n",
    "    td_list.append(dict(item.attrib))"
   ]
  },
  {
   "cell_type": "code",
   "execution_count": null,
   "metadata": {},
   "outputs": [],
   "source": [
    "    calendar = Calendar(calendar_name=\"test\")\n",
    "    add_event(calendar,\n",
    "              SUMMARY=\"测试\",\n",
    "              DTSTART=datetime.datetime(year=2019,month=2,day=19,hour=21,minute=21,second=00),\n",
    "              DTEND=datetime.datetime(year=2019,month=2,day=19,hour=21,minute=30,second=00),\n",
    "              DESCRIPTION=\"测试事件\",\n",
    "              LOCATION=\"我也不知道在哪儿\")\n",
    "    print(calendar.get_ics_text())\n",
    "    calendar.save_as_ics_file()"
   ]
  },
  {
   "cell_type": "code",
   "execution_count": 51,
   "metadata": {},
   "outputs": [
    {
     "output_type": "stream",
     "name": "stdout",
     "text": [
      "0\n2\n4\n6\n8\n"
     ]
    }
   ],
   "source": [
    "for i in range(0,10,2):\n",
    "    print(i)"
   ]
  },
  {
   "cell_type": "code",
   "execution_count": 25,
   "metadata": {},
   "outputs": [
    {
     "output_type": "execute_result",
     "data": {
      "text/plain": [
       "{'id': 'TD26_0',\n",
       " 'style': 'background-color: rgb(148, 174, 243); font-size: 12px;',\n",
       " 'rowspan': '2',\n",
       " 'class': 'infoTitle',\n",
       " 'title': '计算机体系结构(A035026) (乔百友);(1-7单,1号A103(浑南校区);机器学习导论(A030816) (曹鹏);(9-12,1号A201(浑南校区)'}"
      ]
     },
     "metadata": {},
     "execution_count": 25
    }
   ],
   "source": [
    "a = td_list[5]\n",
    "a"
   ]
  },
  {
   "cell_type": "code",
   "execution_count": 17,
   "metadata": {},
   "outputs": [
    {
     "output_type": "execute_result",
     "data": {
      "text/plain": [
       "['操作系统(A034406) (乔建忠)', '', '', '(1-7单,1号A203(浑南校区))']"
      ]
     },
     "metadata": {},
     "execution_count": 17
    }
   ],
   "source": [
    "b=a['title'].split(';')\n"
   ]
  },
  {
   "cell_type": "code",
   "execution_count": 24,
   "metadata": {},
   "outputs": [],
   "source": [
    "td_list = []\n",
    "for item in tds:\n",
    "    content = dict(item.attrib)\n",
    "    if 'title' in content.keys():\n",
    "        td_list.append(content)"
   ]
  },
  {
   "cell_type": "code",
   "execution_count": 84,
   "metadata": {},
   "outputs": [
    {
     "output_type": "stream",
     "name": "stdout",
     "text": [
      "['计算机体系结构(A035026) (乔百友)', '(1-7单,1号A103(浑南校区)', '机器学习导论(A030816) (曹鹏)', '(9-12,1号A201(浑南校区)']\n['A035026', '乔百友']\n"
     ]
    }
   ],
   "source": [
    "import re\n",
    "al = l[5]\n",
    "b = al.xpath(\"./text()\")\n",
    "print(b)\n",
    "cName = re.compile(r\"^([\\w ]+)\\(\")\n",
    "cNum = re.compile(r\"\\((\\w+)\\)\")\n",
    "room =  re.compile(r\",(\\w+)\\(\")\n",
    "hanzi = re.compile(r\"\\(([\\w ]+)\\)\")\n",
    "routine = re.compile(r\"\\(([\\w\\S]+),\")\n",
    "x = hanzi.findall(b[0])\n",
    "print(x)"
   ]
  },
  {
   "cell_type": "code",
   "execution_count": 85,
   "metadata": {},
   "outputs": [
    {
     "output_type": "stream",
     "name": "stdout",
     "text": [
      "{'CourseName': '计算机体系结构', 'CourseNumber': 'A035026', 'Teacher': '乔百友', 'Campus': '浑南校区', 'Room': '1号A103', 'Routine': '1-7单'}\n{'CourseName': '机器学习导论', 'CourseNumber': 'A030816', 'Teacher': '曹鹏', 'Campus': '浑南校区', 'Room': '1号A201', 'Routine': '9-12'}\n"
     ]
    }
   ],
   "source": [
    "detail = al.xpath(\"./text()\")\n",
    "for i in range(0,10,2):\n",
    "    if i+1 > len(detail):\n",
    "        break;\n",
    "    cName = re.compile(r\"^([\\w ]+)\\(\")\n",
    "    cNum = re.compile(r\"\\(([A-Za-z]+[0-9]+)\\)\")\n",
    "    room =  re.compile(r\",(\\w+)\\(\")\n",
    "    hanzi = re.compile(r\"\\(([\\w ]+)\\)\")\n",
    "    routine = re.compile(r\"\\(([\\w\\S]+),\")\n",
    "    c_info = {}\n",
    "\n",
    "    c_info['CourseName'] = cName.findall(detail[i])[0]\n",
    "    c_info['CourseNumber'] = cNum.findall(detail[i])[0]\n",
    "    c_info['Teacher'] = hanzi.findall(detail[i])[1]\n",
    "    c_info['Campus'] = hanzi.findall(detail[i+1])[0]\n",
    "    c_info['Room'] = room.findall(detail[i+1])[0]\n",
    "    c_info['Routine'] = routine.findall(detail[i+1])[0]\n",
    "    print(c_info)"
   ]
  },
  {
   "cell_type": "code",
   "execution_count": 87,
   "metadata": {},
   "outputs": [
    {
     "output_type": "stream",
     "name": "stdout",
     "text": [
      "['1', '7']\n"
     ]
    }
   ],
   "source": [
    "s = '1-7单'\n",
    "print(s.strip('单双').split('-'))"
   ]
  },
  {
   "cell_type": "code",
   "execution_count": 90,
   "metadata": {},
   "outputs": [
    {
     "output_type": "stream",
     "name": "stdout",
     "text": [
      "0\n1\n2\n3\n4\n"
     ]
    }
   ],
   "source": [
    "a = 1\n",
    "for i in range(5 if a==1 else 6):\n",
    "    print(i)"
   ]
  },
  {
   "cell_type": "code",
   "execution_count": 12,
   "metadata": {},
   "outputs": [
    {
     "output_type": "stream",
     "name": "stdout",
     "text": [
      "Help on module ics.icalendar in ics:\n\nNAME\n    ics.icalendar\n\nCLASSES\n    ics.component.Component(builtins.object)\n        Calendar\n    \n    class Calendar(ics.component.Component)\n     |  Calendar(imports: Union[str, ics.grammar.parse.Container] = None, events: Iterable[ics.event.Event] = None, todos: Iterable[ics.todo.Todo] = None, creator: str = None)\n     |  \n     |  Represents an unique rfc5545 iCalendar.\n     |  \n     |  Attributes:\n     |  \n     |      events: a set of Event contained in the Calendar\n     |      todos: a set of Todo contained in the Calendar\n     |      timeline: a Timeline instance linked to this Calendar\n     |  \n     |  Method resolution order:\n     |      Calendar\n     |      ics.component.Component\n     |      builtins.object\n     |  \n     |  Methods defined here:\n     |  \n     |  __eq__(self, other: object) -> bool\n     |      Return self==value.\n     |  \n     |  __init__(self, imports: Union[str, ics.grammar.parse.Container] = None, events: Iterable[ics.event.Event] = None, todos: Iterable[ics.todo.Todo] = None, creator: str = None)\n     |      Instantiates a new Calendar.\n     |      \n     |      Args:\n     |          imports (**str**): data to be imported into the Calendar,\n     |          events (**Set[Event]**): Events to be added to the calendar\n     |          todos (Set[Todo]): Todos to be added to the calendar\n     |          creator (string): uid of the creator program.\n     |      \n     |      If ``imports`` is specified, every other argument will be ignored.\n     |  \n     |  __iter__(self) -> Iterable[str]\n     |      Returns:\n     |      iterable: an iterable version of __str__, line per line\n     |      (with line-endings).\n     |      \n     |      Example:\n     |          Can be used to write calendar to a file:\n     |      \n     |          >>> c = Calendar(); c.events.add(Event(name=\"My cool event\"))\n     |          >>> open('my.ics', 'w').writelines(c)\n     |  \n     |  __ne__(self, other: object) -> bool\n     |      Return self!=value.\n     |  \n     |  __repr__(self) -> str\n     |      Return repr(self).\n     |  \n     |  clone(self)\n     |      Returns:\n     |          Calendar: an exact deep copy of self\n     |  \n     |  ----------------------------------------------------------------------\n     |  Class methods defined here:\n     |  \n     |  parse_multiple(string) from builtins.type\n     |      \"\n     |      Parses an input string that may contain mutiple calendars\n     |      and retruns a list of :class:`ics.event.Calendar`\n     |  \n     |  ----------------------------------------------------------------------\n     |  Data descriptors defined here:\n     |  \n     |  creator\n     |      Get or set the calendar's creator.\n     |      \n     |      |  Will return a string.\n     |      |  May be set to a string.\n     |      |  Creator is the PRODID iCalendar property.\n     |      |  It uniquely identifies the program that created the calendar.\n     |  \n     |  ----------------------------------------------------------------------\n     |  Data and other attributes defined here:\n     |  \n     |  Meta = <class 'ics.icalendar.Calendar.Meta'>\n     |  \n     |  \n     |  __hash__ = None\n     |  \n     |  ----------------------------------------------------------------------\n     |  Methods inherited from ics.component.Component:\n     |  \n     |  __str__(self) -> str\n     |      Returns the component in an iCalendar format.\n     |  \n     |  ----------------------------------------------------------------------\n     |  Data descriptors inherited from ics.component.Component:\n     |  \n     |  __dict__\n     |      dictionary for instance variables (if defined)\n     |  \n     |  __weakref__\n     |      list of weak references to the object (if defined)\n     |  \n     |  ----------------------------------------------------------------------\n     |  Data and other attributes inherited from ics.component.Component:\n     |  \n     |  __annotations__ = {'_classmethod_args': typing.Tuple, '_classmethod_kw...\n\nDATA\n    Dict = typing.Dict\n    Iterable = typing.Iterable\n    Optional = typing.Optional\n    Set = typing.Set\n    Union = typing.Union\n\nFILE\n    c:\\users\\19692\\appdata\\local\\programs\\python\\python38\\lib\\site-packages\\ics\\icalendar.py\n\n\n"
     ]
    }
   ],
   "source": [
    "from ics import *\n",
    "\n",
    "help(icalendar)"
   ]
  },
  {
   "cell_type": "code",
   "execution_count": 13,
   "metadata": {},
   "outputs": [],
   "source": [
    "from ics import Calendar, Event\n",
    "e = Event()\n",
    "e."
   ]
  },
  {
   "cell_type": "code",
   "execution_count": 14,
   "metadata": {},
   "outputs": [
    {
     "output_type": "stream",
     "name": "stdout",
     "text": [
      "Help on class Event in module ics.event:\n\nclass Event(ics.component.Component)\n |  Event(name: str = None, begin: Union[datetime.datetime, arrow.arrow.Arrow] = None, end: Union[datetime.datetime, arrow.arrow.Arrow] = None, duration: datetime.timedelta = None, uid: str = None, description: str = None, created: Union[datetime.datetime, arrow.arrow.Arrow] = None, last_modified: Union[datetime.datetime, arrow.arrow.Arrow] = None, location: str = None, url: str = None, transparent: bool = None, alarms: Iterable[ics.alarm.base.BaseAlarm] = None, attendees: Iterable[ics.attendee.Attendee] = None, categories: Iterable[str] = None, status: str = None, organizer: ics.attendee.Organizer = None, geo=None, classification: str = None) -> None\n |  \n |  A calendar event.\n |  \n |  Can be full-day or between two instants.\n |  Can be defined by a beginning instant and\n |  a duration *or* end instant.\n |  \n |  Unsupported event attributes can be found in `event.extra`,\n |  a :class:`ics.parse.Container`. You may add some by appending a\n |  :class:`ics.parse.ContentLine` to `.extra`\n |  \n |  Method resolution order:\n |      Event\n |      ics.component.Component\n |      builtins.object\n |  \n |  Methods defined here:\n |  \n |  __and__ = join(self, other, *args, **kwarg)\n |  \n |  __eq__(self, other: object) -> bool\n |      Return self==value.\n |  \n |  __ge__(self, other) -> bool\n |      Return self>=value.\n |  \n |  __gt__(self, other) -> bool\n |      Return self>value.\n |  \n |  __hash__(self) -> int\n |      Returns:\n |          int: hash of self. Based on self.uid.\n |  \n |  __in__ = is_included_in(self, other) -> bool\n |  \n |  __init__(self, name: str = None, begin: Union[datetime.datetime, arrow.arrow.Arrow] = None, end: Union[datetime.datetime, arrow.arrow.Arrow] = None, duration: datetime.timedelta = None, uid: str = None, description: str = None, created: Union[datetime.datetime, arrow.arrow.Arrow] = None, last_modified: Union[datetime.datetime, arrow.arrow.Arrow] = None, location: str = None, url: str = None, transparent: bool = None, alarms: Iterable[ics.alarm.base.BaseAlarm] = None, attendees: Iterable[ics.attendee.Attendee] = None, categories: Iterable[str] = None, status: str = None, organizer: ics.attendee.Organizer = None, geo=None, classification: str = None) -> None\n |      Instantiates a new :class:`ics.event.Event`.\n |      \n |      Args:\n |          name: rfc5545 SUMMARY property\n |          begin (Arrow-compatible)\n |          end (Arrow-compatible)\n |          duration\n |          uid: must be unique\n |          description\n |          created (Arrow-compatible)\n |          last_modified (Arrow-compatible)\n |          location\n |          url\n |          transparent\n |          alarms\n |          attendees\n |          categories\n |          status\n |          organizer\n |          classification\n |      \n |      Raises:\n |          ValueError: if `end` and `duration` are specified at the same time\n |  \n |  __le__(self, other) -> bool\n |      Return self<=value.\n |  \n |  __lt__(self, other) -> bool\n |      Return self<value.\n |  \n |  __repr__(self) -> str\n |      Return repr(self).\n |  \n |  __xor__ = intersects(self, other) -> bool\n |  \n |  add_attendee(self, attendee: ics.attendee.Attendee)\n |      Add an attendee to the attendees set\n |  \n |  clone(self)\n |      Returns:\n |          Event: an exact copy of self\n |  \n |  ends_within(self, other) -> bool\n |  \n |  has_end(self) -> bool\n |      Return:\n |          bool: self has an end\n |  \n |  includes(self, other) -> bool\n |  \n |  intersects(self, other) -> bool\n |  \n |  is_included_in(self, other) -> bool\n |  \n |  join(self, other, *args, **kwarg)\n |      Create a new event which covers the time range of two intersecting events\n |      \n |      All extra parameters are passed to the Event constructor.\n |      \n |      Args:\n |          other: the other event\n |      \n |      Returns:\n |          a new Event instance\n |  \n |  make_all_day(self) -> None\n |      Transforms self to an all-day event.\n |      \n |      The event will span all the days from the begin to the end day.\n |  \n |  starts_within(self, other) -> bool\n |  \n |  time_equals(self, other) -> bool\n |  \n |  ----------------------------------------------------------------------\n |  Readonly properties defined here:\n |  \n |  all_day\n |      Return:\n |          bool: self is an all-day event\n |  \n |  ----------------------------------------------------------------------\n |  Data descriptors defined here:\n |  \n |  begin\n |      Get or set the beginning of the event.\n |      \n |      |  Will return an :class:`Arrow` object.\n |      |  May be set to anything that :func:`Arrow.get` understands.\n |      |  If an end is defined (not a duration), .begin must not\n |          be set to a superior value.\n |  \n |  classification\n |  \n |  duration\n |      Get or set the duration of the event.\n |      \n |      |  Will return a timedelta object.\n |      |  May be set to anything that timedelta() understands.\n |      |  May be set with a dict ({\"days\":2, \"hours\":6}).\n |      |  If set to a non null value, removes any already\n |          existing end time.\n |  \n |  end\n |      Get or set the end of the event.\n |      \n |      |  Will return an :class:`Arrow` object.\n |      |  May be set to anything that :func:`Arrow.get` understands.\n |      |  If set to a non null value, removes any already\n |          existing duration.\n |      |  Setting to None will have unexpected behavior if\n |          begin is not None.\n |      |  Must not be set to an inferior value than self.begin.\n |  \n |  geo\n |      Get or set the geo position of the event.\n |      \n |      |  Will return a namedtuple object.\n |      |  May be set to any Geo, tuple or dict with latitude and longitude keys.\n |      |  If set to a non null value, removes any already\n |          existing geo.\n |  \n |  status\n |  \n |  ----------------------------------------------------------------------\n |  Data and other attributes defined here:\n |  \n |  Meta = <class 'ics.event.Event.Meta'>\n |  \n |  \n |  ----------------------------------------------------------------------\n |  Methods inherited from ics.component.Component:\n |  \n |  __str__(self) -> str\n |      Returns the component in an iCalendar format.\n |  \n |  ----------------------------------------------------------------------\n |  Data descriptors inherited from ics.component.Component:\n |  \n |  __dict__\n |      dictionary for instance variables (if defined)\n |  \n |  __weakref__\n |      list of weak references to the object (if defined)\n |  \n |  ----------------------------------------------------------------------\n |  Data and other attributes inherited from ics.component.Component:\n |  \n |  __annotations__ = {'_classmethod_args': typing.Tuple, '_classmethod_kw...\n\n"
     ]
    }
   ],
   "source": [
    "help(Event)"
   ]
  },
  {
   "cell_type": "code",
   "execution_count": 15,
   "metadata": {},
   "outputs": [],
   "source": [
    "from ics import Calendar, Event\n",
    "c = Calendar()\n",
    "e = Event()\n",
    "e.name = \"My cool event\"\n",
    "e.begin = '2021-01-29 00:00:00'\n",
    "c.events.add(e)\n",
    "c.events\n",
    "# [<Event 'My cool event' begin:2014-01-01 00:00:00 end:2014-01-01 00:00:01>]\n",
    "with open('my.ics', 'w') as my_file:\n",
    "    my_file.writelines(c)\n",
    "# and it's done !"
   ]
  },
  {
   "cell_type": "code",
   "execution_count": null,
   "metadata": {},
   "outputs": [],
   "source": []
  }
 ]
}