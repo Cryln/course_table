{
 "metadata": {
  "language_info": {
   "codemirror_mode": {
    "name": "ipython",
    "version": 3
   },
   "file_extension": ".py",
   "mimetype": "text/x-python",
   "name": "python",
   "nbconvert_exporter": "python",
   "pygments_lexer": "ipython3",
   "version": "3.8.6-candidate"
  },
  "orig_nbformat": 2,
  "kernelspec": {
   "name": "python38664bitf48a3ee1f15d430ab565733639d5bd6b",
   "display_name": "Python 3.8.6 64-bit",
   "language": "python"
  }
 },
 "nbformat": 4,
 "nbformat_minor": 2,
 "cells": [
  {
   "cell_type": "code",
   "execution_count": 1,
   "metadata": {},
   "outputs": [],
   "source": [
    "htmlf=open(\"table.html\",'r',encoding=\"utf-8\")\n",
    "html=htmlf.read() "
   ]
  },
  {
   "cell_type": "code",
   "execution_count": 29,
   "metadata": {},
   "outputs": [],
   "source": [
    "from lxml import etree\n",
    "root = etree.HTML(html)\n",
    "body = root.xpath('//*[@id=\"ExportA\"]/script')"
   ]
  },
  {
   "cell_type": "code",
   "execution_count": 53,
   "metadata": {},
   "outputs": [],
   "source": [
    "script = root.xpath('//*[@id=\"ExportA\"]/script')\n",
    "index = re.finditer(\"var teachers =\",body[0].text)\n",
    "cindex = []\n",
    "for i in index:\n",
    "    cindex.append(i.span())\n",
    "cindex.append((-1,-1))\n",
    "courses = [script[0].text[cindex[i][0]:cindex[i+1][0]] for i in range(len(cindex)-1)]"
   ]
  },
  {
   "cell_type": "code",
   "execution_count": 87,
   "metadata": {},
   "outputs": [
    {
     "output_type": "execute_result",
     "data": {
      "text/plain": [
       "['3', '3']"
      ]
     },
     "metadata": {},
     "execution_count": 87
    }
   ],
   "source": [
    "test = re.compile(r\"activity = new TaskActivity\\(([\\s\\S]+)\\);\")\n",
    "week = re.compile(r\"index =(\\d+)\\*unitCount\\+\\d+;\")\n",
    "classNumber = re.compile(r\"index =\\d+\\*unitCount\\+(\\d+);\")\n",
    "ans = week.findall(courses[-2])\n",
    "ans"
   ]
  },
  {
   "cell_type": "code",
   "execution_count": 88,
   "metadata": {},
   "outputs": [
    {
     "output_type": "execute_result",
     "data": {
      "text/plain": [
       "'var teachers = [{id:10490,name:\"刘莹\",lab:false}];\\n\\n\\t\\tvar actTeachers = [{id:10490,name:\"刘莹\",lab:false}];\\n\\n\\t\\tvar assistant = _.filter(actTeachers, function(actTeacher) {\\n\\n\\t\\t\\treturn (_.where(teachers, {id:actTeacher.id,name:actTeacher.name,lab:actTeacher.lab}).length == 0) && (actTeacher.lab == true);\\n\\n\\t\\t});\\n\\n\\t\\tvar assistantName = \"\";\\n\\n\\t\\tif (assistant.length > 0) {\\n\\n\\t\\t\\tassistantName = assistant[0].name;\\n\\n\\t\\t\\tactTeachers = _.reject(actTeachers, function(actTeacher) {\\n\\n\\t\\t\\t\\treturn _.where(assistant, {id:actTeacher.id}).length > 0;\\n\\n\\t\\t\\t});\\n\\n\\t\\t}\\n\\n\\t\\tvar actTeacherId = [];\\n\\n\\t\\tvar actTeacherName = [];\\n\\n\\t\\tfor (var i = 0; i < actTeachers.length; i++) {\\n\\n\\t\\t\\tactTeacherId.push(actTeachers[i].id);\\n\\n\\t\\t\\tactTeacherName.push(actTeachers[i].name);\\n\\n\\t\\t}\\n\\n\\t\\t\\tactivity = new TaskActivity(actTeacherId.join(\\',\\'),actTeacherName.join(\\',\\'),\"93117(A034512)\",\"接口技术(A034512)\",\"488\",\"1号A304(浑南校区)\",\"01111111100000000000000000000000000000000000000000000\",null,null,assistantName,\"\",\"\");\\n\\n\\t\\t\\tindex =3*unitCount+4;\\n\\n\\t\\t\\ttable0.activities[index][table0.activities[index].length]=activity;\\n\\n\\t\\t\\tindex =3*unitCount+5;\\n\\n\\t\\t\\ttable0.activities[index][table0.activities[index].length]=activity;\\n\\n\\t\\t'"
      ]
     },
     "metadata": {},
     "execution_count": 88
    }
   ],
   "source": [
    "courses[-2]"
   ]
  },
  {
   "cell_type": "code",
   "execution_count": 78,
   "metadata": {},
   "outputs": [
    {
     "output_type": "stream",
     "name": "stdout",
     "text": [
      "0\n1\n"
     ]
    }
   ],
   "source": [
    "for i in range(2):\n",
    "    print(i)"
   ]
  },
  {
   "cell_type": "code",
   "execution_count": 83,
   "metadata": {},
   "outputs": [
    {
     "output_type": "stream",
     "name": "stdout",
     "text": [
      "[2, 3, 4, 5, 6, 7, 8, 9] 01111111100000000000000000000000000000000000000000000\n"
     ]
    }
   ],
   "source": [
    "routine=[]\n",
    "onehot = x[8].strip('\"')\n",
    "for w in range(len(onehot)):\n",
    "    if(onehot[w]=='1'):\n",
    "        routine.append(w+1)\n",
    "print(routine,onehot)"
   ]
  },
  {
   "cell_type": "code",
   "execution_count": 59,
   "metadata": {},
   "outputs": [
    {
     "output_type": "stream",
     "name": "stdout",
     "text": [
      "var teachers = [{id:10490,name:\"刘莹\",lab:false}];\n\n\t\tvar actTeachers = [{id:10490,name:\"刘莹\",lab:false}];\n\n\t\tvar assistant = _.filter(actTeachers, function(actTeacher) {\n\n\t\t\treturn (_.where(teachers, {id:actTeacher.id,name:actTeacher.name,lab:actTeacher.lab}).length == 0) && (actTeacher.lab == true);\n\n\t\t});\n\n\t\tvar assistantName = \"\";\n\n\t\tif (assistant.length > 0) {\n\n\t\t\tassistantName = assistant[0].name;\n\n\t\t\tactTeachers = _.reject(actTeachers, function(actTeacher) {\n\n\t\t\t\treturn _.where(assistant, {id:actTeacher.id}).length > 0;\n\n\t\t\t});\n\n\t\t}\n\n\t\tvar actTeacherId = [];\n\n\t\tvar actTeacherName = [];\n\n\t\tfor (var i = 0; i < actTeachers.length; i++) {\n\n\t\t\tactTeacherId.push(actTeachers[i].id);\n\n\t\t\tactTeacherName.push(actTeachers[i].name);\n\n\t\t}\n\n\t\t\tactivity = new TaskActivity(actTeacherId.join(','),actTeacherName.join(','),\"93117(A034512)\",\"接口技术(A034512)\",\"488\",\"1号A304(浑南校区)\",\"01111111100000000000000000000000000000000000000000000\",null,null,assistantName,\"\",\"\");\n\n\t\t\tindex =3*unitCount+4;\n\n\t\t\ttable0.activities[index][table0.activities[index].length]=activity;\n\n\t\t\tindex =3*unitCount+5;\n\n\t\t\ttable0.activities[index][table0.activities[index].length]=activity;\n\n\t\t\n"
     ]
    }
   ],
   "source": [
    "index =3*unitCount+5;"
   ]
  },
  {
   "cell_type": "code",
   "execution_count": 40,
   "metadata": {},
   "outputs": [],
   "source": [
    "with open('body.html','a') as f:\n",
    "    f.writelines(body[0].text)"
   ]
  },
  {
   "cell_type": "code",
   "execution_count": 39,
   "metadata": {
    "tags": [
     "outputPrepend"
    ]
   },
   "outputs": [
    {
     "output_type": "stream",
     "name": "stdout",
     "text": [
      "ar actTeacherId = [];\n\n\t\tvar actTeacherName = [];\n\n\t\tfor (var i = 0; i < actTeachers.length; i++) {\n\n\t\t\tactTeacherId.push(actTeachers[i].id);\n\n\t\t\tactTeacherName.push(actTeachers[i].name);\n\n\t\t}\n\n\t\t\tactivity = new TaskActivity(actTeacherId.join(','),actTeacherName.join(','),\"93962(A030316)\",\"形势与政策(3)(A030316)\",\"455\",\"信息A112(浑南校区)\",\"00000001100000000000000000000000000000000000000000000\",null,null,assistantName,\"\",\"\");\n\n\t\t\tindex =5*unitCount+2;\n\n\t\t\ttable0.activities[index][table0.activities[index].length]=activity;\n\n\t\t\tindex =5*unitCount+3;\n\n\t\t\ttable0.activities[index][table0.activities[index].length]=activity;\n\n\t\tvar teachers = [{id:11277,name:\"印莹\",lab:false}];\n\n\t\tvar actTeachers = [{id:11277,name:\"印莹\",lab:false}];\n\n\t\tvar assistant = _.filter(actTeachers, function(actTeacher) {\n\n\t\t\treturn (_.where(teachers, {id:actTeacher.id,name:actTeacher.name,lab:actTeacher.lab}).length == 0) && (actTeacher.lab == true);\n\n\t\t});\n\n\t\tvar assistantName = \"\";\n\n\t\tif (assistant.length > 0) {\n\n\t\t\tassistantName = assistant[0].name;\n\n\t\t\tactTeachers = _.reject(actTeachers, function(actTeacher) {\n\n\t\t\t\treturn _.where(assistant, {id:actTeacher.id}).length > 0;\n\n\t\t\t});\n\n\t\t}\n\n\t\tvar actTeacherId = [];\n\n\t\tvar actTeacherName = [];\n\n\t\tfor (var i = 0; i < actTeachers.length; i++) {\n\n\t\t\tactTeacherId.push(actTeachers[i].id);\n\n\t\t\tactTeacherName.push(actTeachers[i].name);\n\n\t\t}\n\n\t\t\tactivity = new TaskActivity(actTeacherId.join(','),actTeacherName.join(','),\"91231(A034796)\",\"软件工程(A034796)\",\"792\",\"1号A104(浑南校区)\",\"01111111100000000000000000000000000000000000000000000\",null,null,assistantName,\"\",\"\");\n\n\t\t\tindex =4*unitCount+4;\n\n\t\t\ttable0.activities[index][table0.activities[index].length]=activity;\n\n\t\t\tindex =4*unitCount+5;\n\n\t\t\ttable0.activities[index][table0.activities[index].length]=activity;\n\n\t\tvar teachers = [{id:11277,name:\"印莹\",lab:false}];\n\n\t\tvar actTeachers = [{id:11277,name:\"印莹\",lab:false}];\n\n\t\tvar assistant = _.filter(actTeachers, function(actTeacher) {\n\n\t\t\treturn (_.where(teachers, {id:actTeacher.id,name:actTeacher.name,lab:actTeacher.lab}).length == 0) && (actTeacher.lab == true);\n\n\t\t});\n\n\t\tvar assistantName = \"\";\n\n\t\tif (assistant.length > 0) {\n\n\t\t\tassistantName = assistant[0].name;\n\n\t\t\tactTeachers = _.reject(actTeachers, function(actTeacher) {\n\n\t\t\t\treturn _.where(assistant, {id:actTeacher.id}).length > 0;\n\n\t\t\t});\n\n\t\t}\n\n\t\tvar actTeacherId = [];\n\n\t\tvar actTeacherName = [];\n\n\t\tfor (var i = 0; i < actTeachers.length; i++) {\n\n\t\t\tactTeacherId.push(actTeachers[i].id);\n\n\t\t\tactTeacherName.push(actTeachers[i].name);\n\n\t\t}\n\n\t\t\tactivity = new TaskActivity(actTeacherId.join(','),actTeacherName.join(','),\"91231(A034796)\",\"软件工程(A034796)\",\"488\",\"1号A304(浑南校区)\",\"01111111100000000000000000000000000000000000000000000\",null,null,assistantName,\"\",\"\");\n\n\t\t\tindex =1*unitCount+4;\n\n\t\t\ttable0.activities[index][table0.activities[index].length]=activity;\n\n\t\t\tindex =1*unitCount+5;\n\n\t\t\ttable0.activities[index][table0.activities[index].length]=activity;\n\n\t\tvar teachers = [{id:11277,name:\"印莹\",lab:false}];\n\n\t\tvar actTeachers = [{id:11277,name:\"印莹\",lab:false}];\n\n\t\tvar assistant = _.filter(actTeachers, function(actTeacher) {\n\n\t\t\treturn (_.where(teachers, {id:actTeacher.id,name:actTeacher.name,lab:actTeacher.lab}).length == 0) && (actTeacher.lab == true);\n\n\t\t});\n\n\t\tvar assistantName = \"\";\n\n\t\tif (assistant.length > 0) {\n\n\t\t\tassistantName = assistant[0].name;\n\n\t\t\tactTeachers = _.reject(actTeachers, function(actTeacher) {\n\n\t\t\t\treturn _.where(assistant, {id:actTeacher.id}).length > 0;\n\n\t\t\t});\n\n\t\t}\n\n\t\tvar actTeacherId = [];\n\n\t\tvar actTeacherName = [];\n\n\t\tfor (var i = 0; i < actTeachers.length; i++) {\n\n\t\t\tactTeacherId.push(actTeachers[i].id);\n\n\t\t\tactTeacherName.push(actTeachers[i].name);\n\n\t\t}\n\n\t\t\tactivity = new TaskActivity(actTeacherId.join(','),actTeacherName.join(','),\"91231(A034796)\",\"软件工程(A034796)\",\"513\",\"1号A402(浑南校区)\",\"00101010100000000000000000000000000000000000000000000\",null,null,assistantName,\"\",\"\");\n\n\t\t\tindex =0*unitCount+2;\n\n\t\t\ttable0.activities[index][table0.activities[index].length]=activity;\n\n\t\t\tindex =0*unitCount+3;\n\n\t\t\ttable0.activities[index][table0.activities[index].length]=activity;\n\n\t\tvar teachers = [{id:11498,name:\"曹鹏\",lab:false}];\n\n\t\tvar actTeachers = [{id:11498,name:\"曹鹏\",lab:false}];\n\n\t\tvar assistant = _.filter(actTeachers, function(actTeacher) {\n\n\t\t\treturn (_.where(teachers, {id:actTeacher.id,name:actTeacher.name,lab:actTeacher.lab}).length == 0) && (actTeacher.lab == true);\n\n\t\t});\n\n\t\tvar assistantName = \"\";\n\n\t\tif (assistant.length > 0) {\n\n\t\t\tassistantName = assistant[0].name;\n\n\t\t\tactTeachers = _.reject(actTeachers, function(actTeacher) {\n\n\t\t\t\treturn _.where(assistant, {id:actTeacher.id}).length > 0;\n\n\t\t\t});\n\n\t\t}\n\n\t\tvar actTeacherId = [];\n\n\t\tvar actTeacherName = [];\n\n\t\tfor (var i = 0; i < actTeachers.length; i++) {\n\n\t\t\tactTeacherId.push(actTeachers[i].id);\n\n\t\t\tactTeacherName.push(actTeachers[i].name);\n\n\t\t}\n\n\t\t\tactivity = new TaskActivity(actTeacherId.join(','),actTeacherName.join(','),\"92681(A030816)\",\"机器学习导论(A030816)\",\"809\",\"1号A202(浑南校区)\",\"00000000011110000000000000000000000000000000000000000\",null,null,assistantName,\"\",\"\");\n\n\t\t\tindex =4*unitCount+2;\n\n\t\t\ttable0.activities[index][table0.activities[index].length]=activity;\n\n\t\t\tindex =4*unitCount+3;\n\n\t\t\ttable0.activities[index][table0.activities[index].length]=activity;\n\n\t\tvar teachers = [{id:11498,name:\"曹鹏\",lab:false}];\n\n\t\tvar actTeachers = [{id:11498,name:\"曹鹏\",lab:false}];\n\n\t\tvar assistant = _.filter(actTeachers, function(actTeacher) {\n\n\t\t\treturn (_.where(teachers, {id:actTeacher.id,name:actTeacher.name,lab:actTeacher.lab}).length == 0) && (actTeacher.lab == true);\n\n\t\t});\n\n\t\tvar assistantName = \"\";\n\n\t\tif (assistant.length > 0) {\n\n\t\t\tassistantName = assistant[0].name;\n\n\t\t\tactTeachers = _.reject(actTeachers, function(actTeacher) {\n\n\t\t\t\treturn _.where(assistant, {id:actTeacher.id}).length > 0;\n\n\t\t\t});\n\n\t\t}\n\n\t\tvar actTeacherId = [];\n\n\t\tvar actTeacherName = [];\n\n\t\tfor (var i = 0; i < actTeachers.length; i++) {\n\n\t\t\tactTeacherId.push(actTeachers[i].id);\n\n\t\t\tactTeacherName.push(actTeachers[i].name);\n\n\t\t}\n\n\t\t\tactivity = new TaskActivity(actTeacherId.join(','),actTeacherName.join(','),\"92681(A030816)\",\"机器学习导论(A030816)\",\"808\",\"1号A201(浑南校区)\",\"00000000011110000000000000000000000000000000000000000\",null,null,assistantName,\"\",\"\");\n\n\t\t\tindex =3*unitCount+6;\n\n\t\t\ttable0.activities[index][table0.activities[index].length]=activity;\n\n\t\t\tindex =3*unitCount+7;\n\n\t\t\ttable0.activities[index][table0.activities[index].length]=activity;\n\n\t\tvar teachers = [{id:11498,name:\"曹鹏\",lab:false}];\n\n\t\tvar actTeachers = [{id:11498,name:\"曹鹏\",lab:false}];\n\n\t\tvar assistant = _.filter(actTeachers, function(actTeacher) {\n\n\t\t\treturn (_.where(teachers, {id:actTeacher.id,name:actTeacher.name,lab:actTeacher.lab}).length == 0) && (actTeacher.lab == true);\n\n\t\t});\n\n\t\tvar assistantName = \"\";\n\n\t\tif (assistant.length > 0) {\n\n\t\t\tassistantName = assistant[0].name;\n\n\t\t\tactTeachers = _.reject(actTeachers, function(actTeacher) {\n\n\t\t\t\treturn _.where(assistant, {id:actTeacher.id}).length > 0;\n\n\t\t\t});\n\n\t\t}\n\n\t\tvar actTeacherId = [];\n\n\t\tvar actTeacherName = [];\n\n\t\tfor (var i = 0; i < actTeachers.length; i++) {\n\n\t\t\tactTeacherId.push(actTeachers[i].id);\n\n\t\t\tactTeacherName.push(actTeachers[i].name);\n\n\t\t}\n\n\t\t\tactivity = new TaskActivity(actTeacherId.join(','),actTeacherName.join(','),\"92681(A030816)\",\"机器学习导论(A030816)\",\"808\",\"1号A201(浑南校区)\",\"00000000011110000000000000000000000000000000000000000\",null,null,assistantName,\"\",\"\");\n\n\t\t\tindex =2*unitCount+2;\n\n\t\t\ttable0.activities[index][table0.activities[index].length]=activity;\n\n\t\t\tindex =2*unitCount+3;\n\n\t\t\ttable0.activities[index][table0.activities[index].length]=activity;\n\n\t\tvar teachers = [{id:11498,name:\"曹鹏\",lab:false}];\n\n\t\tvar actTeachers = [{id:11498,name:\"曹鹏\",lab:false}];\n\n\t\tvar assistant = _.filter(actTeachers, function(actTeacher) {\n\n\t\t\treturn (_.where(teachers, {id:actTeacher.id,name:actTeacher.name,lab:actTeacher.lab}).length == 0) && (actTeacher.lab == true);\n\n\t\t});\n\n\t\tvar assistantName = \"\";\n\n\t\tif (assistant.length > 0) {\n\n\t\t\tassistantName = assistant[0].name;\n\n\t\t\tactTeachers = _.reject(actTeachers, function(actTeacher) {\n\n\t\t\t\treturn _.where(assistant, {id:actTeacher.id}).length > 0;\n\n\t\t\t});\n\n\t\t}\n\n\t\tvar actTeacherId = [];\n\n\t\tvar actTeacherName = [];\n\n\t\tfor (var i = 0; i < actTeachers.length; i++) {\n\n\t\t\tactTeacherId.push(actTeachers[i].id);\n\n\t\t\tactTeacherName.push(actTeachers[i].name);\n\n\t\t}\n\n\t\t\tactivity = new TaskActivity(actTeacherId.join(','),actTeacherName.join(','),\"92681(A030816)\",\"机器学习导论(A030816)\",\"808\",\"1号A201(浑南校区)\",\"00000000011110000000000000000000000000000000000000000\",null,null,assistantName,\"\",\"\");\n\n\t\t\tindex =0*unitCount+4;\n\n\t\t\ttable0.activities[index][table0.activities[index].length]=activity;\n\n\t\t\tindex =0*unitCount+5;\n\n\t\t\ttable0.activities[index][table0.activities[index].length]=activity;\n\n\t\tvar teachers = [{id:8491,name:\"乔建忠\",lab:false}];\n\n\t\tvar actTeachers = [{id:8491,name:\"乔建忠\",lab:false}];\n\n\t\tvar assistant = _.filter(actTeachers, function(actTeacher) {\n\n\t\t\treturn (_.where(teachers, {id:actTeacher.id,name:actTeacher.name,lab:actTeacher.lab}).length == 0) && (actTeacher.lab == true);\n\n\t\t});\n\n\t\tvar assistantName = \"\";\n\n\t\tif (assistant.length > 0) {\n\n\t\t\tassistantName = assistant[0].name;\n\n\t\t\tactTeachers = _.reject(actTeachers, function(actTeacher) {\n\n\t\t\t\treturn _.where(assistant, {id:actTeacher.id}).length > 0;\n\n\t\t\t});\n\n\t\t}\n\n\t\tvar actTeacherId = [];\n\n\t\tvar actTeacherName = [];\n\n\t\tfor (var i = 0; i < actTeachers.length; i++) {\n\n\t\t\tactTeacherId.push(actTeachers[i].id);\n\n\t\t\tactTeacherName.push(actTeachers[i].name);\n\n\t\t}\n\n\t\t\tactivity = new TaskActivity(actTeacherId.join(','),actTeacherName.join(','),\"91123(A034406)\",\"操作系统(A034406)\",\"452\",\"信息A114(浑南校区)\",\"01111111111110000000000000000000000000000000000000000\",null,null,assistantName,\"\",\"\");\n\n\t\t\tindex =3*unitCount+2;\n\n\t\t\ttable0.activities[index][table0.activities[index].length]=activity;\n\n\t\t\tindex =3*unitCount+3;\n\n\t\t\ttable0.activities[index][table0.activities[index].length]=activity;\n\n\t\tvar teachers = [{id:8491,name:\"乔建忠\",lab:false}];\n\n\t\tvar actTeachers = [{id:8491,name:\"乔建忠\",lab:false}];\n\n\t\tvar assistant = _.filter(actTeachers, function(actTeacher) {\n\n\t\t\treturn (_.where(teachers, {id:actTeacher.id,name:actTeacher.name,lab:actTeacher.lab}).length == 0) && (actTeacher.lab == true);\n\n\t\t});\n\n\t\tvar assistantName = \"\";\n\n\t\tif (assistant.length > 0) {\n\n\t\t\tassistantName = assistant[0].name;\n\n\t\t\tactTeachers = _.reject(actTeachers, function(actTeacher) {\n\n\t\t\t\treturn _.where(assistant, {id:actTeacher.id}).length > 0;\n\n\t\t\t});\n\n\t\t}\n\n\t\tvar actTeacherId = [];\n\n\t\tvar actTeacherName = [];\n\n\t\tfor (var i = 0; i < actTeachers.length; i++) {\n\n\t\t\tactTeacherId.push(actTeachers[i].id);\n\n\t\t\tactTeacherName.push(actTeachers[i].name);\n\n\t\t}\n\n\t\t\tactivity = new TaskActivity(actTeacherId.join(','),actTeacherName.join(','),\"91123(A034406)\",\"操作系统(A034406)\",\"793\",\"1号A105(浑南校区)\",\"01111111111110000000000000000000000000000000000000000\",null,null,assistantName,\"\",\"\");\n\n\t\t\tindex =1*unitCount+2;\n\n\t\t\ttable0.activities[index][table0.activities[index].length]=activity;\n\n\t\t\tindex =1*unitCount+3;\n\n\t\t\ttable0.activities[index][table0.activities[index].length]=activity;\n\n\t\tvar teachers = [{id:8491,name:\"乔建忠\",lab:false}];\n\n\t\tvar actTeachers = [{id:8491,name:\"乔建忠\",lab:false}];\n\n\t\tvar assistant = _.filter(actTeachers, function(actTeacher) {\n\n\t\t\treturn (_.where(teachers, {id:actTeacher.id,name:actTeacher.name,lab:actTeacher.lab}).length == 0) && (actTeacher.lab == true);\n\n\t\t});\n\n\t\tvar assistantName = \"\";\n\n\t\tif (assistant.length > 0) {\n\n\t\t\tassistantName = assistant[0].name;\n\n\t\t\tactTeachers = _.reject(actTeachers, function(actTeacher) {\n\n\t\t\t\treturn _.where(assistant, {id:actTeacher.id}).length > 0;\n\n\t\t\t});\n\n\t\t}\n\n\t\tvar actTeacherId = [];\n\n\t\tvar actTeacherName = [];\n\n\t\tfor (var i = 0; i < actTeachers.length; i++) {\n\n\t\t\tactTeacherId.push(actTeachers[i].id);\n\n\t\t\tactTeacherName.push(actTeachers[i].name);\n\n\t\t}\n\n\t\t\tactivity = new TaskActivity(actTeacherId.join(','),actTeacherName.join(','),\"91123(A034406)\",\"操作系统(A034406)\",\"810\",\"1号A203(浑南校区)\",\"01010101000000000000000000000000000000000000000000000\",null,null,assistantName,\"\",\"\");\n\n\t\t\tindex =2*unitCount+0;\n\n\t\t\ttable0.activities[index][table0.activities[index].length]=activity;\n\n\t\t\tindex =2*unitCount+1;\n\n\t\t\ttable0.activities[index][table0.activities[index].length]=activity;\n\n\t\tvar teachers = [{id:8491,name:\"乔建忠\",lab:false}];\n\n\t\tvar actTeachers = [{id:8491,name:\"乔建忠\",lab:false}];\n\n\t\tvar assistant = _.filter(actTeachers, function(actTeacher) {\n\n\t\t\treturn (_.where(teachers, {id:actTeacher.id,name:actTeacher.name,lab:actTeacher.lab}).length == 0) && (actTeacher.lab == true);\n\n\t\t});\n\n\t\tvar assistantName = \"\";\n\n\t\tif (assistant.length > 0) {\n\n\t\t\tassistantName = assistant[0].name;\n\n\t\t\tactTeachers = _.reject(actTeachers, function(actTeacher) {\n\n\t\t\t\treturn _.where(assistant, {id:actTeacher.id}).length > 0;\n\n\t\t\t});\n\n\t\t}\n\n\t\tvar actTeacherId = [];\n\n\t\tvar actTeacherName = [];\n\n\t\tfor (var i = 0; i < actTeachers.length; i++) {\n\n\t\t\tactTeacherId.push(actTeachers[i].id);\n\n\t\t\tactTeacherName.push(actTeachers[i].name);\n\n\t\t}\n\n\t\t\tactivity = new TaskActivity(actTeacherId.join(','),actTeacherName.join(','),\"93791(A034425)\",\"操作系统课程设计(A034425)\",\"\",\"\",\"00000000000001100000000000000000000000000000000000000\",null,null,assistantName,\"\",\"\");\n\n\t\t\tindex =4*unitCount+4;\n\n\t\t\ttable0.activities[index][table0.activities[index].length]=activity;\n\n\t\t\tindex =4*unitCount+5;\n\n\t\t\ttable0.activities[index][table0.activities[index].length]=activity;\n\n\t\t\tindex =4*unitCount+6;\n\n\t\t\ttable0.activities[index][table0.activities[index].length]=activity;\n\n\t\t\tindex =4*unitCount+7;\n\n\t\t\ttable0.activities[index][table0.activities[index].length]=activity;\n\n\t\tvar teachers = [{id:8491,name:\"乔建忠\",lab:false}];\n\n\t\tvar actTeachers = [{id:8491,name:\"乔建忠\",lab:false}];\n\n\t\tvar assistant = _.filter(actTeachers, function(actTeacher) {\n\n\t\t\treturn (_.where(teachers, {id:actTeacher.id,name:actTeacher.name,lab:actTeacher.lab}).length == 0) && (actTeacher.lab == true);\n\n\t\t});\n\n\t\tvar assistantName = \"\";\n\n\t\tif (assistant.length > 0) {\n\n\t\t\tassistantName = assistant[0].name;\n\n\t\t\tactTeachers = _.reject(actTeachers, function(actTeacher) {\n\n\t\t\t\treturn _.where(assistant, {id:actTeacher.id}).length > 0;\n\n\t\t\t});\n\n\t\t}\n\n\t\tvar actTeacherId = [];\n\n\t\tvar actTeacherName = [];\n\n\t\tfor (var i = 0; i < actTeachers.length; i++) {\n\n\t\t\tactTeacherId.push(actTeachers[i].id);\n\n\t\t\tactTeacherName.push(actTeachers[i].name);\n\n\t\t}\n\n\t\t\tactivity = new TaskActivity(actTeacherId.join(','),actTeacherName.join(','),\"93791(A034425)\",\"操作系统课程设计(A034425)\",\"\",\"\",\"00000000000001100000000000000000000000000000000000000\",null,null,assistantName,\"\",\"\");\n\n\t\t\tindex =3*unitCount+4;\n\n\t\t\ttable0.activities[index][table0.activities[index].length]=activity;\n\n\t\t\tindex =3*unitCount+5;\n\n\t\t\ttable0.activities[index][table0.activities[index].length]=activity;\n\n\t\t\tindex =3*unitCount+6;\n\n\t\t\ttable0.activities[index][table0.activities[index].length]=activity;\n\n\t\t\tindex =3*unitCount+7;\n\n\t\t\ttable0.activities[index][table0.activities[index].length]=activity;\n\n\t\tvar teachers = [{id:8491,name:\"乔建忠\",lab:false}];\n\n\t\tvar actTeachers = [{id:8491,name:\"乔建忠\",lab:false}];\n\n\t\tvar assistant = _.filter(actTeachers, function(actTeacher) {\n\n\t\t\treturn (_.where(teachers, {id:actTeacher.id,name:actTeacher.name,lab:actTeacher.lab}).length == 0) && (actTeacher.lab == true);\n\n\t\t});\n\n\t\tvar assistantName = \"\";\n\n\t\tif (assistant.length > 0) {\n\n\t\t\tassistantName = assistant[0].name;\n\n\t\t\tactTeachers = _.reject(actTeachers, function(actTeacher) {\n\n\t\t\t\treturn _.where(assistant, {id:actTeacher.id}).length > 0;\n\n\t\t\t});\n\n\t\t}\n\n\t\tvar actTeacherId = [];\n\n\t\tvar actTeacherName = [];\n\n\t\tfor (var i = 0; i < actTeachers.length; i++) {\n\n\t\t\tactTeacherId.push(actTeachers[i].id);\n\n\t\t\tactTeacherName.push(actTeachers[i].name);\n\n\t\t}\n\n\t\t\tactivity = new TaskActivity(actTeacherId.join(','),actTeacherName.join(','),\"93791(A034425)\",\"操作系统课程设计(A034425)\",\"\",\"\",\"00000000000001100000000000000000000000000000000000000\",null,null,assistantName,\"\",\"\");\n\n\t\t\tindex =1*unitCount+4;\n\n\t\t\ttable0.activities[index][table0.activities[index].length]=activity;\n\n\t\t\tindex =1*unitCount+5;\n\n\t\t\ttable0.activities[index][table0.activities[index].length]=activity;\n\n\t\t\tindex =1*unitCount+6;\n\n\t\t\ttable0.activities[index][table0.activities[index].length]=activity;\n\n\t\t\tindex =1*unitCount+7;\n\n\t\t\ttable0.activities[index][table0.activities[index].length]=activity;\n\n\t\tvar teachers = [{id:8491,name:\"乔建忠\",lab:false}];\n\n\t\tvar actTeachers = [{id:8491,name:\"乔建忠\",lab:false}];\n\n\t\tvar assistant = _.filter(actTeachers, function(actTeacher) {\n\n\t\t\treturn (_.where(teachers, {id:actTeacher.id,name:actTeacher.name,lab:actTeacher.lab}).length == 0) && (actTeacher.lab == true);\n\n\t\t});\n\n\t\tvar assistantName = \"\";\n\n\t\tif (assistant.length > 0) {\n\n\t\t\tassistantName = assistant[0].name;\n\n\t\t\tactTeachers = _.reject(actTeachers, function(actTeacher) {\n\n\t\t\t\treturn _.where(assistant, {id:actTeacher.id}).length > 0;\n\n\t\t\t});\n\n\t\t}\n\n\t\tvar actTeacherId = [];\n\n\t\tvar actTeacherName = [];\n\n\t\tfor (var i = 0; i < actTeachers.length; i++) {\n\n\t\t\tactTeacherId.push(actTeachers[i].id);\n\n\t\t\tactTeacherName.push(actTeachers[i].name);\n\n\t\t}\n\n\t\t\tactivity = new TaskActivity(actTeacherId.join(','),actTeacherName.join(','),\"93791(A034425)\",\"操作系统课程设计(A034425)\",\"\",\"\",\"00000000000001100000000000000000000000000000000000000\",null,null,assistantName,\"\",\"\");\n\n\t\t\tindex =0*unitCount+4;\n\n\t\t\ttable0.activities[index][table0.activities[index].length]=activity;\n\n\t\t\tindex =0*unitCount+5;\n\n\t\t\ttable0.activities[index][table0.activities[index].length]=activity;\n\n\t\t\tindex =0*unitCount+6;\n\n\t\t\ttable0.activities[index][table0.activities[index].length]=activity;\n\n\t\t\tindex =0*unitCount+7;\n\n\t\t\ttable0.activities[index][table0.activities[index].length]=activity;\n\n\t\tvar teachers = [{id:10490,name:\"刘莹\",lab:false}];\n\n\t\tvar actTeachers = [{id:10490,name:\"刘莹\",lab:false}];\n\n\t\tvar assistant = _.filter(actTeachers, function(actTeacher) {\n\n\t\t\treturn (_.where(teachers, {id:actTeacher.id,name:actTeacher.name,lab:actTeacher.lab}).length == 0) && (actTeacher.lab == true);\n\n\t\t});\n\n\t\tvar assistantName = \"\";\n\n\t\tif (assistant.length > 0) {\n\n\t\t\tassistantName = assistant[0].name;\n\n\t\t\tactTeachers = _.reject(actTeachers, function(actTeacher) {\n\n\t\t\t\treturn _.where(assistant, {id:actTeacher.id}).length > 0;\n\n\t\t\t});\n\n\t\t}\n\n\t\tvar actTeacherId = [];\n\n\t\tvar actTeacherName = [];\n\n\t\tfor (var i = 0; i < actTeachers.length; i++) {\n\n\t\t\tactTeacherId.push(actTeachers[i].id);\n\n\t\t\tactTeacherName.push(actTeachers[i].name);\n\n\t\t}\n\n\t\t\tactivity = new TaskActivity(actTeacherId.join(','),actTeacherName.join(','),\"93117(A034512)\",\"接口技术(A034512)\",\"488\",\"1号A304(浑南校区)\",\"01111111100000000000000000000000000000000000000000000\",null,null,assistantName,\"\",\"\");\n\n\t\t\tindex =3*unitCount+4;\n\n\t\t\ttable0.activities[index][table0.activities[index].length]=activity;\n\n\t\t\tindex =3*unitCount+5;\n\n\t\t\ttable0.activities[index][table0.activities[index].length]=activity;\n\n\t\tvar teachers = [{id:10490,name:\"刘莹\",lab:false}];\n\n\t\tvar actTeachers = [{id:10490,name:\"刘莹\",lab:false}];\n\n\t\tvar assistant = _.filter(actTeachers, function(actTeacher) {\n\n\t\t\treturn (_.where(teachers, {id:actTeacher.id,name:actTeacher.name,lab:actTeacher.lab}).length == 0) && (actTeacher.lab == true);\n\n\t\t});\n\n\t\tvar assistantName = \"\";\n\n\t\tif (assistant.length > 0) {\n\n\t\t\tassistantName = assistant[0].name;\n\n\t\t\tactTeachers = _.reject(actTeachers, function(actTeacher) {\n\n\t\t\t\treturn _.where(assistant, {id:actTeacher.id}).length > 0;\n\n\t\t\t});\n\n\t\t}\n\n\t\tvar actTeacherId = [];\n\n\t\tvar actTeacherName = [];\n\n\t\tfor (var i = 0; i < actTeachers.length; i++) {\n\n\t\t\tactTeacherId.push(actTeachers[i].id);\n\n\t\t\tactTeacherName.push(actTeachers[i].name);\n\n\t\t}\n\n\t\t\tactivity = new TaskActivity(actTeacherId.join(','),actTeacherName.join(','),\"93117(A034512)\",\"接口技术(A034512)\",\"486\",\"1号A302(浑南校区)\",\"01111111100000000000000000000000000000000000000000000\",null,null,assistantName,\"\",\"\");\n\n\t\t\tindex =0*unitCount+4;\n\n\t\t\ttable0.activities[index][table0.activities[index].length]=activity;\n\n\t\t\tindex =0*unitCount+5;\n\n\t\t\ttable0.activities[index][table0.activities[index].length]=activity;\n\n\ttable0.marshalTable(2,1,17);\n\n\tfillTable(table0,7,12,0);\n\n\n"
     ]
    }
   ],
   "source": [
    "print(body[0].text)"
   ]
  },
  {
   "cell_type": "code",
   "execution_count": 41,
   "metadata": {},
   "outputs": [],
   "source": [
    "import re\n",
    "course = re.compile(r\"(var teachers =)\")\n",
    "courses = course.findall(body[0].text)"
   ]
  },
  {
   "cell_type": "code",
   "execution_count": 52,
   "metadata": {},
   "outputs": [
    {
     "output_type": "stream",
     "name": "stdout",
     "text": [
      "(171, 185) <class 'tuple'>\n(1332, 1346) <class 'tuple'>\n(2493, 2507) <class 'tuple'>\n(3654, 3668) <class 'tuple'>\n(4818, 4832) <class 'tuple'>\n(5982, 5996) <class 'tuple'>\n(7146, 7160) <class 'tuple'>\n(8311, 8325) <class 'tuple'>\n(9472, 9486) <class 'tuple'>\n(10633, 10647) <class 'tuple'>\n(11794, 11808) <class 'tuple'>\n(12957, 12971) <class 'tuple'>\n(14120, 14134) <class 'tuple'>\n(15283, 15297) <class 'tuple'>\n(16446, 16460) <class 'tuple'>\n(17607, 17621) <class 'tuple'>\n(18768, 18782) <class 'tuple'>\n(19929, 19943) <class 'tuple'>\n(21275, 21289) <class 'tuple'>\n(22621, 22635) <class 'tuple'>\n(23967, 23981) <class 'tuple'>\n(25313, 25327) <class 'tuple'>\n(26474, 26488) <class 'tuple'>\n"
     ]
    }
   ],
   "source": [
    "courses = re.finditer(\"var teachers =\",body[0].text)\n",
    "for i in courses:\n",
    "    print(i.span(),type(i.span()))\n",
    "\n"
   ]
  }
 ]
}